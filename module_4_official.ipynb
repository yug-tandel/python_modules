{
 "cells": [
  {
   "cell_type": "code",
   "execution_count": null,
   "id": "03510b42",
   "metadata": {},
   "outputs": [],
   "source": [
    "#1.What is File function in python? What is keywords to create and write file.\n",
    "This function returns a file object, also called a handle, as it is used to read \n",
    "or modify the file accordingly. We can specify the mode while opening a file.\n",
    "In mode, we specify whether we want to read r , write w or append a to the file. \n",
    "We can also specify if we want to open the file in text mode or binary mode."
   ]
  },
  {
   "cell_type": "code",
   "execution_count": null,
   "id": "6363036b",
   "metadata": {},
   "outputs": [],
   "source": [
    "#2.Write a Python program to read an entire text file.\n",
    "\n",
    "file=open(\"myfile.txt\",\"r\")\n",
    "\n",
    "print(\"read function: \")\n",
    "print(file.read())\n",
    "print()\n",
    "\n",
    "file.seek(0) \n",
    "\n",
    "print(\"readline function:\")\n",
    "print(file.readline())\n",
    "print()\n",
    "\n",
    "file.seek(0) \n",
    "\n",
    "print(\"readlines function:\")\n",
    "print(file.readlines())\n",
    "file.close()"
   ]
  },
  {
   "cell_type": "code",
   "execution_count": null,
   "id": "d6945ae0",
   "metadata": {},
   "outputs": [],
   "source": [
    "#3.Write a Python program to append text to a file and display the text.\n",
    "file1 = open(\"myfile.txt\", \"w\")\n",
    "L = [\"Manisha \\n\", \"Valvi \\n\", \"Surat\"]\n",
    "file1.writelines(L)\n",
    "file1.close()\n",
    "\n",
    "# Append-adds at last\n",
    "file1 = open(\"myfile.txt\", \"a\") # append mode\n",
    "file1.write(\"Today \\n\")\n",
    "file1.close()\n",
    "\n",
    "file1 = open(\"myfile.txt\", \"r\")\n",
    "print(\"Output of Readlines after appending\")\n",
    "print(file1.read())\n",
    "print()\n",
    "file1.close()\n",
    "\n"
   ]
  },
  {
   "cell_type": "code",
   "execution_count": null,
   "id": "adb85ef9",
   "metadata": {},
   "outputs": [],
   "source": [
    "#4.Write a Python program to read first n lines of a file.\n",
    "\n",
    "file1 = open(\"myfile.txt\", \"w\")\n",
    "file1.write(\"Tomorrow \\n\")\n",
    "file1.close()\n",
    "\n",
    "file1 = open(\"myfile.txt\", \"r\")\n",
    "print(\"Output\",\"Manisha\",\"Valvi\")\n",
    "print(file1.readline())\n",
    "print()\n",
    "file1.close()\n"
   ]
  },
  {
   "cell_type": "code",
   "execution_count": null,
   "id": "4d340196",
   "metadata": {},
   "outputs": [],
   "source": [
    "#5.Write a Python program to read last n lines of a file.\n",
    "file1=open(\"file2.txt\",\"w\")\n",
    "\n",
    "file1.write(\"line1\\n\")\n",
    "file1.write(\"line2\\n\")\n",
    "file1.write(\"line3\\n\")\n",
    "file1.write(\"line4\\n\")\n",
    "file1.write(\"line5\\n\")\n",
    "file1.write(\"line6\\n\")\n",
    "file1.write(\"line7\\n\")\n",
    "file1.write(\"line8\\n\")\n",
    "file1.write(\"line9\\n\")\n",
    "file1.write(\"line10\\n\")\n",
    "file1.close()\n",
    "\n",
    "a_file =open(\"file2.txt\",\"r\")\n",
    "lines=a_file.readlines()\n",
    "last_lines=lines[-5:]\n",
    "print(last_lines)\n",
    "a_file.close()"
   ]
  },
  {
   "cell_type": "code",
   "execution_count": null,
   "id": "c88f0150",
   "metadata": {},
   "outputs": [],
   "source": [
    "#6.Write a Python program to read a file line by line and store it into a list\n",
    "file1=open(\"file2.txt\",\"w\")\n",
    "\n",
    "file1.write(\"line1\\n\")\n",
    "file1.write(\"line2\\n\")\n",
    "file1.write(\"line3\\n\")\n",
    "file1.write(\"line4\\n\")\n",
    "file1.write(\"line5\\n\")\n",
    "file1.write(\"line6\\n\")\n",
    "file1.write(\"line7\\n\")\n",
    "file1.write(\"line8\\n\")\n",
    "file1.write(\"line9\\n\")\n",
    "file1.write(\"line10\\n\")\n",
    "file1.close()\n",
    "a_file =open(\"file2.txt\",\"r\")\n",
    "lines=a_file.readlines()\n",
    "last_lines=lines[:]\n",
    "print(last_lines)\n",
    "a_file.close()\n"
   ]
  },
  {
   "cell_type": "code",
   "execution_count": null,
   "id": "9de1b2a7",
   "metadata": {},
   "outputs": [],
   "source": [
    "#7.Write a Python program to read a file line by line store it into a variable.\n",
    "# Python code to\n",
    "# demonstrate readlines()\n",
    "\n",
    "L = [\"manisha\\n\", \"valvi\\n\", \"patel\\n\"]\n",
    "\n",
    "file1 = open('myfile.txt', 'w')\n",
    "file1.writelines(L)\n",
    "file1.close()\n",
    "\n",
    "file1 = open('myfile.txt', 'r')\n",
    "Lines = file1.readlines()\n",
    "\n",
    "count = 0\n",
    "\n",
    "for line in Lines:\n",
    "    count += 1\n",
    " print(\"Line{}: {}\".format(count, line.strip()))\n"
   ]
  },
  {
   "cell_type": "code",
   "execution_count": null,
   "id": "6e5c47f9",
   "metadata": {},
   "outputs": [],
   "source": [
    "#8.Write a python program to find the longest words.\n",
    "\n",
    "def largestWord(s):\n",
    "    str1 = sorted(s,key = len)\n",
    "    print(str1[-1])\n",
    "\n",
    "if __name__ == \"__main__\":\n",
    "\n",
    "    str1 =\"bachelor of engineering\"\n",
    "\n",
    "    l = list(str1.split(\" \"))\n",
    "\n",
    "largestWord(l)\n"
   ]
  },
  {
   "cell_type": "code",
   "execution_count": null,
   "id": "3579d7e1",
   "metadata": {},
   "outputs": [],
   "source": [
    "#9.Write a Python program to count the number of lines in a text file.\n",
    "\n",
    "file1=open(\"file2.txt\",\"w\")\n",
    "\n",
    "file1.write(\"line1\\n\")\n",
    "file1.write(\"line2\\n\")\n",
    "file1.write(\"line3\\n\")\n",
    "file1.write(\"line4\\n\")\n",
    "file1.close()\n",
    "\n",
    "file = open(\"file2.txt\", \"r\")\n",
    "Counter = 0\n",
    "\n",
    "\n",
    "file1 = file.read()\n",
    "data = file1.split(\"\\n\")\n",
    "\n",
    "for i in data:\n",
    "    if i:\n",
    "        Counter += 1\n",
    "\n",
    "print(\"number of lines in the file\")\n",
    "print(Counter)\n"
   ]
  },
  {
   "cell_type": "code",
   "execution_count": null,
   "id": "6fdee12c",
   "metadata": {},
   "outputs": [],
   "source": [
    "#10.Write a Python program to count the frequency of words in a file.\n",
    "file1=open(\"file2.txt\",\"w\")\n",
    "\n",
    "file1.write(\"manisha\\n\")\n",
    "file1.write(\"mnisha valvi\\n\")\n",
    "file1.write(\"manisha valvi patel\\n\")\n",
    "file1.close()\n",
    "\n",
    "fname = input('Enter the file name: ')\n",
    "try:\n",
    "    file2 = open(fname)\n",
    "    counts = dict()\n",
    "    for line in file2:\n",
    "        words = line.split()\n",
    "        for word in words:\n",
    "            if word in counts:\n",
    "                counts[word] += 1\n",
    "            else:\n",
    "                counts[word] = 1\n",
    "    print(counts)\n",
    "except:\n",
    "    print('File cannot be opened:')"
   ]
  },
  {
   "cell_type": "code",
   "execution_count": null,
   "id": "c81134a1",
   "metadata": {},
   "outputs": [],
   "source": [
    "#11.Write a Python program to write a list to a file\n",
    "\n",
    "file1=open(\"file2.txt\",\"w\")\n",
    "\n",
    "file1.write(\"line1\\n\")\n",
    "file1.write(\"line2\\n\")\n",
    "file1.write(\"line3\\n\")\n",
    "file1.write(\"line4\\n\")\n",
    "file1.close()\n",
    "\n",
    "f = open('file2.txt', 'r')\n",
    "print(f.read())\n",
    "f.close()\n"
   ]
  },
  {
   "cell_type": "code",
   "execution_count": null,
   "id": "9bec1b87",
   "metadata": {},
   "outputs": [],
   "source": [
    "#12.Write a Python program to copy the contents of a file to another file.\n",
    "\n",
    "file1=input(\"Enter Source File:\")\n",
    "\n",
    "try:\n",
    "    f1=open(file1,\"r\")\n",
    "\n",
    "    file2 = input(\"Enter Target File:\")\n",
    "    f2=open(file2,\"w\")\n",
    "\n",
    "    f2.write(sf.read())\n",
    "\n",
    "    f1.close()\n",
    "    f2.close()\n",
    "    print(\"File Copied...\")\n",
    "    \n",
    "except FileNotFoundError as e:\n",
    "    print(e)"
   ]
  },
  {
   "cell_type": "code",
   "execution_count": null,
   "id": "3f51d5ca",
   "metadata": {},
   "outputs": [],
   "source": [
    "#13.Explain Exception handling? What is an Error in Python?\n",
    "An Exception is an error that happens during the execution of a program.\n",
    "Whenever there is an error, Python generates an exception that could be handled. \n",
    "It basically prevents the program from getting crashed.\n",
    "\n",
    "Python - Error Types.\n",
    "The most common reason of an error in a Python program is when a certain statement \n",
    "is not in accordance with the prescribed usage. Such an error is called a syntax error.\n",
    "The Python interpreter immediately reports it, usually along with the reason.\n",
    "Example: Error."
   ]
  },
  {
   "cell_type": "code",
   "execution_count": null,
   "id": "447f8dc0",
   "metadata": {},
   "outputs": [],
   "source": [
    "#14.How many except statements can a try-except block have? Name Some \n",
    "#built-in exception classes:\n",
    "There has to be at least one except statement.\n",
    "1.ArithmeticError-Raised when an error occurs in numeric calculations\n",
    "2.Exception-Base class for all exceptions\n",
    "3.IndentationError-Raised when indendation is not correct\n",
    "4IndexError-Raised when an index of a sequence does not exist\n",
    "5.KeyError-Raised when a key does not exist in a dictionary\n",
    "6NameError-Raised when a variable does not exist\n",
    "7.RuntimeError-Raised when an error occurs that do not belong to any specific expections\n",
    "8.SyntaxError-Raised when a syntax error occurs\n",
    "9.ValueError-Raised when there is a wrong value in a specified data type\n",
    "10.ZeroDivisionError- Raised when the second operator in a division is zero\n"
   ]
  },
  {
   "cell_type": "code",
   "execution_count": null,
   "id": "49067f1c",
   "metadata": {},
   "outputs": [],
   "source": [
    "#15.When will the else part of try-except-else be executed?\n",
    "Answer:The else part is executed when no exception occurs."
   ]
  },
  {
   "cell_type": "code",
   "execution_count": null,
   "id": "e74d7a44",
   "metadata": {},
   "outputs": [],
   "source": [
    "#16.Can one block of except statements handle multiple exception?\n",
    "Answer: a Explanation: Each type of exception can be specified directly.\n",
    "        There is no need to put it in a list."
   ]
  },
  {
   "cell_type": "code",
   "execution_count": null,
   "id": "1b0396f5",
   "metadata": {},
   "outputs": [],
   "source": [
    "#17.When is the finally block executed?\n",
    "Answer:The finally block always executes when the try block exits. \n",
    "       This ensures that the finally block is executed even if an unexpected exception occurs."
   ]
  },
  {
   "cell_type": "code",
   "execution_count": null,
   "id": "292fe059",
   "metadata": {},
   "outputs": [],
   "source": [
    "#18.What happens when „1‟== 1 is executed?\n",
    "Answer: it simply evaluates to false and does not raise any exception."
   ]
  },
  {
   "cell_type": "code",
   "execution_count": null,
   "id": "4352333b",
   "metadata": {},
   "outputs": [],
   "source": [
    "#19.How Do You Handle Exceptions With Try/Except/Finally In Python? Explain with coding snippets.\n",
    "\n",
    "try:\n",
    "    k = 5//0 # raises divide by zero exception.\n",
    "    print(k)\n",
    "\n",
    "# handles zerodivision exception\n",
    "except ZeroDivisionError:\n",
    "    print(\"Can't divide by zero\")\n",
    "\n",
    "finally:\n",
    "    # this block is always executed\n",
    "    # regardless of exception generation.\n",
    "    print('This is always executed')\n"
   ]
  },
  {
   "cell_type": "code",
   "execution_count": null,
   "id": "60b0f750",
   "metadata": {},
   "outputs": [],
   "source": [
    "#20.Write python program that user to enter only odd numbers, else will raise an exception.\n",
    "class ManishaError(Exception):\n",
    "    pass\n",
    "a = int(input(\"\")) \n",
    "if (a%2)==0:\n",
    "    raise ManishaError(\"enter odd no. \") \n",
    "else: \n",
    "    print(\"odd no\")\n",
    "    \n"
   ]
  },
  {
   "cell_type": "code",
   "execution_count": null,
   "id": "fd795ab6",
   "metadata": {},
   "outputs": [],
   "source": [
    "#21.What are oops concepts? Is multiple inheritance supported in java\n",
    "Answer:Multiple Inheritance is a feature of an object-oriented concept, \n",
    "    where a class can inherit properties of more than one parent class.\n",
    "    The problem occurs when there exist methods with the same signature \n",
    "    in both the superclasses and subclass.\n",
    "    \n",
    "    Java doesn't support multiple inheritances in classes because it can lead to diamond problem \n",
    "    and rather than providing some complex way to solve it, there are better ways through which \n",
    "    we can achieve the same result as multiple inheritances."
   ]
  },
  {
   "cell_type": "code",
   "execution_count": null,
   "id": "2a05003d",
   "metadata": {},
   "outputs": [],
   "source": [
    "#22.How to Define a Class in Python? What Is Self? Give An Example Of A Python Class\n",
    "Answer:A class in Python can be defined using the class keyword.\n",
    "    \n",
    "    The self parameter is a reference to the current instance of the class, \n",
    "    and is used to access variables that belongs to the class.\n",
    "    \n",
    "    A Class is like an object constructor, or a \"blueprint\" for creating objects.\n",
    "    \n",
    "\n",
    "class Person:\n",
    "    \"This is a person class\"\n",
    "    age = 10\n",
    "\n",
    "    def greet(self):\n",
    "        print('Hello')\n",
    "\n",
    "harry = Person()\n",
    "\n",
    "print(Person.greet)\n",
    "\n",
    "print(harry.greet)\n",
    "\n",
    "harry.greet()"
   ]
  },
  {
   "cell_type": "code",
   "execution_count": null,
   "id": "27b0a8cd",
   "metadata": {},
   "outputs": [],
   "source": [
    "#23.Write a Python class named Rectangle constructed by a length and width and a method \n",
    "#which will compute the area of a rectangle\n",
    "class Rectangle():\n",
    "    def __init__(self, l, w):\n",
    "        self.length = l\n",
    "        self.width  = w\n",
    "\n",
    "    def rectangle_area(self):\n",
    "        return self.length*self.width\n",
    "\n",
    "newRectangle = Rectangle(12, 10)\n",
    "print(newRectangle.rectangle_area())\n"
   ]
  },
  {
   "cell_type": "code",
   "execution_count": null,
   "id": "badc9d45",
   "metadata": {},
   "outputs": [],
   "source": [
    "#24.Write a Python class named Circle constructed by a radius and two \n",
    "#methods which will compute the area and the perimeter of a circle\n",
    "class Circle():\n",
    "    def __init__(self, r):\n",
    "        self.radius = r\n",
    "\n",
    "    def area(self):\n",
    "        return self.radius**2*3.14\n",
    "    \n",
    "    def perimeter(self):\n",
    "        return 2*self.radius*3.14\n",
    "\n",
    "NewCircle = Circle(8)\n",
    "print(NewCircle.area())\n",
    "print(NewCircle.perimeter())\n"
   ]
  },
  {
   "cell_type": "code",
   "execution_count": null,
   "id": "033dbe91",
   "metadata": {},
   "outputs": [],
   "source": [
    "#25.Explain Inheritance in Python with an example? What is init? Or What Is A Constructor In Python?\n",
    "Answer:Inheritance relationship defines the classes that inherit from other classes as derived, \n",
    "    subclass, or sub-type classes. Base class remains to be the source from which a subclass inherits.\n",
    "    For example, you have a Base class of “Animal,” and a “Lion” is a Derived class.\n",
    "    The inheritance will be Lion is an Animal.\n",
    "    \n",
    "    The __init__ method is the Python equivalent of the C++ constructor in an object-oriented approach. \n",
    "    The __init__ function is called every time an object is created from a class.\n",
    "    The __init__ method lets the class initialize the object's attributes and serves no other purpose.\n",
    "    It is only used within classes.\n",
    "    \n",
    "    Class constructors are a fundamental part of object-oriented programming in Python. \n",
    "    They allow you to create and properly initialize objects of a given class,\n",
    "    making those objects ready to use."
   ]
  },
  {
   "cell_type": "code",
   "execution_count": null,
   "id": "805b150a",
   "metadata": {},
   "outputs": [],
   "source": [
    "#26.What is Instantiation in terms of OOP terminology?\n",
    " Answer:Instantiation refers to creating an object/instance for a class."
   ]
  },
  {
   "cell_type": "code",
   "execution_count": null,
   "id": "9ce3f5c6",
   "metadata": {},
   "outputs": [],
   "source": [
    "#27.What is used to check whether an object o is an instance of class A?\n",
    "Answer:Using isinstance() function, we can test whether an object/variable is\n",
    "       an instance of the specified type or class such as int or list."
   ]
  },
  {
   "cell_type": "code",
   "execution_count": null,
   "id": "001e0600",
   "metadata": {},
   "outputs": [],
   "source": [
    "#28.What relationship is appropriate for Course and Faculty?\n",
    "Answer:Association"
   ]
  },
  {
   "cell_type": "code",
   "execution_count": null,
   "id": "0fe52716",
   "metadata": {},
   "outputs": [],
   "source": [
    "#29.What relationship is appropriate for Student and Person?\n",
    "Ansewr:inheritance"
   ]
  }
 ],
 "metadata": {
  "kernelspec": {
   "display_name": "Python 3 (ipykernel)",
   "language": "python",
   "name": "python3"
  },
  "language_info": {
   "codemirror_mode": {
    "name": "ipython",
    "version": 3
   },
   "file_extension": ".py",
   "mimetype": "text/x-python",
   "name": "python",
   "nbconvert_exporter": "python",
   "pygments_lexer": "ipython3",
   "version": "3.9.12"
  }
 },
 "nbformat": 4,
 "nbformat_minor": 5
}
