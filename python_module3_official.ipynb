{
 "cells": [
  {
   "cell_type": "code",
   "execution_count": null,
   "id": "df702c8a",
   "metadata": {},
   "outputs": [],
   "source": [
    "#Q1. What is list? How will you reverse a list?\n",
    "#--> Lists are used to store multiple items in a single variable. Lists are one \n",
    "# of 4 built-in data types in Python used to store collections of data, the other \n",
    "# 3 are Tuple, Set, and Dictionary, all with different qualities and usage.\n",
    "#--> Every list in Python has a built-in reverse() method you can call to\n",
    "# reverse the contents of the list object in-place. Reversing the list in-place\n",
    "# means won't create a new list and copy the existing elements to it in reverse\n",
    "# order.\n",
    "# Reversing a list using slice method\n",
    "list1 = input('enter list')\n",
    "list1 = list1.split(' ')\n",
    "print('Original list :- ',list1)\n",
    "print('Reversed list :- ',list1[-1::-1])"
   ]
  },
  {
   "cell_type": "code",
   "execution_count": null,
   "id": "2f665b2e",
   "metadata": {},
   "outputs": [],
   "source": [
    "#Q2. How will you remove last object form a list?\n",
    "#--> The simplest approach is to use the list's pop([i]) function, which removes\n",
    "# an element present at the specified position in the list. If we don't specify\n",
    "# any index, pop() removes and returns the last element in the list.\n",
    "# Using slice method\n",
    "list1 = [1,2,3,4,5,6,7,8,9]\n",
    "list1 = list1[0:-1]\n",
    "print(list1)"
   ]
  },
  {
   "cell_type": "code",
   "execution_count": null,
   "id": "71a79efc",
   "metadata": {},
   "outputs": [],
   "source": [
    "a=[]\n",
    "size="
   ]
  },
  {
   "cell_type": "code",
   "execution_count": null,
   "id": "04cf11a7",
   "metadata": {},
   "outputs": [],
   "source": [
    "#Q3. Suppose list1 is [2,33,222,14,25], what is list[-1]\n",
    "#--> The list of -1 is the last index, hence the list[-1] is 25\n",
    "list1 = [2,33,222,14,25]\n",
    "print(list1[-1])"
   ]
  },
  {
   "cell_type": "code",
   "execution_count": null,
   "id": "d34f44aa",
   "metadata": {},
   "outputs": [],
   "source": [
    "#Q4. Difference between append() and extend() methods\n",
    "#--> append() adds a single element to the end of the list while, extend() can\n",
    "# add multiple individual elements to the end of the list.\n",
    "# Example\n",
    "str1 = 'python'\n",
    "list1 = [1,2,3,4]\n",
    "list1.append(str1)\n",
    "print(list1)\n",
    "list1.extend(str1)\n",
    "print(list1)\n"
   ]
  },
  {
   "cell_type": "code",
   "execution_count": null,
   "id": "28365a5e",
   "metadata": {},
   "outputs": [],
   "source": [
    "#Q6.How will you compare two list?\n",
    "list1 = [1,2,3,4]\n",
    "list2 = [1,2,3,4,'yug']\n",
    "if list1==list2:\n",
    "    print(True)\n",
    "else:\n",
    "    print(False)"
   ]
  },
  {
   "cell_type": "code",
   "execution_count": null,
   "id": "84461637",
   "metadata": {},
   "outputs": [],
   "source": [
    "#Q7. Write a python program to count the number of strings where the string \n",
    "# length is 2 or more and the first and last character are same from a given \n",
    "# list of strings\n",
    "list1 = input('enter list')\n",
    "list1 = list1.split(' ')\n",
    "print('Original list :- ',list1)\n",
    "count = 0\n",
    "for element in list1: # element = yuy\n",
    "    if len(element)>=2 and element[0]==element[-1]:\n",
    "        count = count + 1\n",
    "print('number of string that satisfies the above condition is/are :- ',count)\n",
    "\n",
    "\n"
   ]
  },
  {
   "cell_type": "code",
   "execution_count": null,
   "id": "69636bd4",
   "metadata": {},
   "outputs": [],
   "source": [
    "#Q8. Write a python program to remove duplicates form a list.\n",
    "list1 = [1,1,3,4,5,6,'yug','abc','yug',5,6]\n",
    "# Expected Output :- [1,3,4,5,6,'yug','neha']\n",
    "list_temp = []\n",
    "for elm in list1: # elm = 3\n",
    "    i = [elm]\n",
    "    if elm not in list_temp: # i = [3]\n",
    "        list_temp = list_temp + i  # list_temp = [1,2,3] \n",
    "        print(list_temp)\n",
    "    else:\n",
    "        continue\n",
    "# print(list_temp)\n",
    "# [[1],]"
   ]
  },
  {
   "cell_type": "code",
   "execution_count": null,
   "id": "e59f68bf",
   "metadata": {},
   "outputs": [],
   "source": [
    "#Q9. Write a python program to check a list is empty or not.\n",
    "list1 = [1,2,3]\n",
    "if len(list1)==0:\n",
    "    print('empty list')\n",
    "else:\n",
    "    print('non empty list')"
   ]
  },
  {
   "cell_type": "code",
   "execution_count": null,
   "id": "b41c2545",
   "metadata": {},
   "outputs": [],
   "source": [
    "#Q11. Write a python program to generate and print a list of first and last 5\n",
    "# elements where the values are square of numbers between 1 and 30.\n",
    "list1 = []\n",
    "for i in range(1,31):\n",
    "    list1 = list1 + [i*i]\n",
    "print(list1)\n",
    "new_list = list1[:5] + list1[-5:]\n",
    "print('new list :-',new_list)"
   ]
  },
  {
   "cell_type": "code",
   "execution_count": null,
   "id": "3c0f845a",
   "metadata": {},
   "outputs": [],
   "source": [
    "#Q13. Write a Python program to convert a list of characters into a string.\n",
    "list1 = ['y','u','g','1']\n",
    "str1 = ''\n",
    "for i in list1:\n",
    "    str(i) \n",
    "    str1 = str1 + i\n",
    "print(str1)\n"
   ]
  },
  {
   "cell_type": "code",
   "execution_count": null,
   "id": "e9e03864",
   "metadata": {},
   "outputs": [],
   "source": [
    "#Q15. Write a python program to find the second smallest number in a list.\n",
    "list1 = [1,2,3,4,9,5,6,-2,-3,7,8]\n",
    "m = min(list1)\n",
    "list2 = []\n",
    "for i in list1: # i = -3\n",
    "    if i==m:\n",
    "        continue\n",
    "    else:\n",
    "        i = [i]\n",
    "        list2 = list2 + i\n",
    "print(list2)\n",
    "print('Second smallest number is :-',min(list2))"
   ]
  },
  {
   "cell_type": "code",
   "execution_count": null,
   "id": "f202d7b6",
   "metadata": {},
   "outputs": [],
   "source": [
    "#Q16. Write a python program to get unique values from a list\n",
    "# list1 = input('enter lists: - ')\n",
    "# list1 = list1.split(' ')\n",
    "# print(list1)\n",
    "list1 = [1,2,3,\"yug\",\"tandel\",2,\"yug\",[1,2]]\n",
    "unique = ''\n",
    "for i in list1:\n",
    "    if list1.count(i)==1:\n",
    "        unique = unique +' '+ str(i)\n",
    "    else:\n",
    "        pass\n",
    "print('unique values are :- ',unique)"
   ]
  },
  {
   "cell_type": "code",
   "execution_count": 3,
   "id": "ab97178c",
   "metadata": {},
   "outputs": [
    {
     "name": "stdout",
     "output_type": "stream",
     "text": [
      "563957123456\n",
      "3457\n",
      "Does not exist\n"
     ]
    }
   ],
   "source": [
    "#Q17. Write a python program to check whether a list contains a sublist\n",
    "\n",
    "list1 = [5,6,3,9,5,7,1,2,3,4,5,6]\n",
    "sub_list = [3,4,5,7]\n",
    "string = ''\n",
    "sub_string = ''\n",
    "for i in list1:\n",
    "    i=str(i)\n",
    "    string = string + i\n",
    "print(string)\n",
    "for i in sub_list:\n",
    "    i=str(i)\n",
    "    sub_string = sub_string + i\n",
    "print(sub_string)\n",
    "if sub_string in string:\n",
    "    print('It exist')\n",
    "else:\n",
    "    print('Does not exist')\n",
    "    "
   ]
  },
  {
   "cell_type": "code",
   "execution_count": 4,
   "id": "c36d7c48",
   "metadata": {},
   "outputs": [
    {
     "name": "stdout",
     "output_type": "stream",
     "text": [
      "<class 'int'>\n",
      "<class 'str'>\n",
      "90\n",
      "90\n"
     ]
    }
   ],
   "source": [
    "a = 90\n",
    "b = str(a)\n",
    "# print(a+b)\n",
    "print(type(a))\n",
    "print(type(b))\n",
    "print(a)\n",
    "print(b)"
   ]
  },
  {
   "cell_type": "code",
   "execution_count": null,
   "id": "7488e90e",
   "metadata": {},
   "outputs": [],
   "source": [
    "#Q18. Write a python program to split a list into different variables\n",
    "list1 = [1,2,3,4]\n",
    "#l1,l2,l3,l4 = list1\n",
    "l1 = list1[0]\n",
    "l2 = list1[1]\n",
    "l3 = list1[2]\n",
    "l4 = list1[3]\n",
    "print(l1,l2,l3,l4)"
   ]
  },
  {
   "cell_type": "code",
   "execution_count": null,
   "id": "04a11fbd",
   "metadata": {},
   "outputs": [],
   "source": [
    "#Q19. What is tuple? Difference between list and tuple.\n",
    "#-->  Tuple is the collection data type used to store multiple element of different data type in a \n",
    "#  single variable.\n",
    "#  Tuple is similar to list but list is mutable and tuple is immutable."
   ]
  },
  {
   "cell_type": "code",
   "execution_count": null,
   "id": "2d038104",
   "metadata": {},
   "outputs": [],
   "source": [
    "#Q20. Write a python program to create a tuple with different data types.\n",
    "tuple1 = (1,2,'yug',5.6,['apple',34,6.7],{1,2,3},{'yug':33,'neha':98},(5,6,7))\n",
    "print(tuple1)"
   ]
  },
  {
   "cell_type": "code",
   "execution_count": null,
   "id": "f0744767",
   "metadata": {},
   "outputs": [],
   "source": [
    "#Q21. Write a Python program to create a tuple with numbers.\n",
    "t1 = (1,2,3,4,5)\n",
    "t2 = (23,)\n",
    "print(t1)\n",
    "print(t2)"
   ]
  },
  {
   "cell_type": "code",
   "execution_count": null,
   "id": "76321cf2",
   "metadata": {},
   "outputs": [],
   "source": [
    "# Q22. Write a Python program to convert a tuple to a string.\n",
    "tuple1 = (1,2,3,4,5,[1,23],('yug',),{'neha':98},{1,2,'yug'})\n",
    "string = ''\n",
    "for i in tuple1:\n",
    "    i = str(i)\n",
    "    string = string + i\n",
    "print(string)\n",
    "type(string)"
   ]
  },
  {
   "cell_type": "code",
   "execution_count": null,
   "id": "219fc1ce",
   "metadata": {},
   "outputs": [],
   "source": [
    "#Q23. Write a python program to  check whether an element exists within a tuple.\n",
    "tuple1 = (1,2,3,(23,),42,'yug',4.4,{'yug':99},[9,8,7])\n",
    "element = (23,)\n",
    "if element in tuple1:\n",
    "    print('Element exist')\n",
    "else:\n",
    "    print('Element don\\'t exist')"
   ]
  },
  {
   "cell_type": "code",
   "execution_count": null,
   "id": "20f99cbd",
   "metadata": {},
   "outputs": [],
   "source": [
    "#Q24. Write a Python program to find the length of tuple.\n",
    "tuple1 = (1,2,3,4,5,65,'yug')\n",
    "length = len(tuple1)\n",
    "print('tuple length =',length)"
   ]
  },
  {
   "cell_type": "code",
   "execution_count": null,
   "id": "e46f0958",
   "metadata": {},
   "outputs": [],
   "source": [
    "#Q25. Write a Python program to convert a list to a tuple.\n",
    "list1 = [1,2,3,4,5]\n",
    "list1 = tuple(list1)\n",
    "print(list1)\n",
    "print(type(list1))"
   ]
  },
  {
   "cell_type": "code",
   "execution_count": null,
   "id": "b6173459",
   "metadata": {},
   "outputs": [],
   "source": [
    "# Q26. Write a python program to reverse a tuple.\n",
    "tuple1 = (1,2,3,4,5,6)\n",
    "tuple1 = tuple1[-1::-1]\n",
    "print(tuple1)"
   ]
  },
  {
   "cell_type": "code",
   "execution_count": null,
   "id": "d374c9ce",
   "metadata": {},
   "outputs": [],
   "source": [
    "# Q27. Write a python program to replace last value of tuples in a list.\n",
    "T1 = (1,2,3,4,5)\n",
    "L1 = list(T1)\n",
    "L1[-1] = list([L1[-1]])\n",
    "T1 = tuple(L1)\n",
    "print(T1)\n",
    "print(type(T1[-1]))"
   ]
  },
  {
   "cell_type": "code",
   "execution_count": null,
   "id": "ce118068",
   "metadata": {},
   "outputs": [],
   "source": [
    "# Q28. Write a python program to find the repeated items of tuple.\n",
    "tuple1 = (1,2,3,4,'yug',3,1)\n",
    "repeated = ''\n",
    "non_repeated = ''\n",
    "for item in tuple1:\n",
    "    item = str(item)\n",
    "    if item in non_repeated:\n",
    "        repeated = repeated + item\n",
    "    else:\n",
    "        non_repeated = non_repeated + item\n",
    "repeated = tuple(repeated)\n",
    "print('repeated items are :-',repeated)"
   ]
  },
  {
   "cell_type": "code",
   "execution_count": null,
   "id": "53efed3b",
   "metadata": {},
   "outputs": [],
   "source": [
    "# Q29. Write a python program to remove an empty tuple(s) from a list of tuples.\n",
    "list_of_tuples = [(1,2),(    ),('yug','tandel'),(),(34,4.5,[0,9])]\n",
    "for i in list_of_tuples:\n",
    "    if len(i)==0:\n",
    "        list_of_tuples.remove(i)\n",
    "    else:\n",
    "        continue\n",
    "print(list_of_tuples)"
   ]
  },
  {
   "cell_type": "code",
   "execution_count": null,
   "id": "594fa01a",
   "metadata": {},
   "outputs": [],
   "source": [
    "#Q30. Write a python program to unzip a list of tuples into individual lists.\n",
    "list_of_tuples = [(1,2),(    ),('yug','tandel'),(),(34,4.5,[0,9])]\n",
    "(t1,t2,t3,t4,t5) = list_of_tuples\n",
    "# (t1,t2,t3,t4,t5) = list((t1,t2,t3,t4,t5))\n",
    "t1 = list(t1)\n",
    "t2 = list(t2)\n",
    "t3 = list(t3)\n",
    "t4 = list(t4)\n",
    "t5 = list(t5)\n",
    "print(t1)\n",
    "print(t2)\n",
    "print(t3)\n",
    "print(t4)\n",
    "print(t5)"
   ]
  },
  {
   "cell_type": "code",
   "execution_count": null,
   "id": "d4d521ca",
   "metadata": {},
   "outputs": [],
   "source": [
    "#Q31. Write a python program to convert a list of tuple into dictionary.\n",
    "tuple_list = [(1,'one'),(2,'two'),(3,'three')]\n",
    "n = {}\n",
    "n.update(tuple_list)\n",
    "tuple_list = n.copy()\n",
    "print(tuple_list)\n"
   ]
  },
  {
   "cell_type": "code",
   "execution_count": null,
   "id": "b5a261ab",
   "metadata": {},
   "outputs": [],
   "source": [
    "#Q32. How wil you create a dictioinary using tuples in python\n",
    "# step1 - create a tuple with tuple pairs inside (for example :- tup = ((a,b),(x,y)))\n",
    "# step2 - convert the tuple into list ( type casting )\n",
    "# step3 - create an empty dictionary (for example n = {})\n",
    "# step4 - now use dictionary update() method on n passing the parameter the tuple 'tup'\n",
    "# step5 - make the copy of n in variable tup\n",
    "# step6 - print(tup)    your dictionary will be created\n",
    "tup = ((1,'one'),(2,'two'))\n",
    "tup = list(tup)  # [(1,'one'),(2,'two')]\n",
    "n = {}\n",
    "n.update(tup)\n",
    "tup = n.copy()\n",
    "print(tup)"
   ]
  },
  {
   "cell_type": "code",
   "execution_count": null,
   "id": "b7a63b9e",
   "metadata": {
    "scrolled": true
   },
   "outputs": [],
   "source": [
    "#Q33. Write a Python script to sort(acending and decending) a dictionary  by value\n",
    "                  # In Acending Order\n",
    "dictionary = {1:'one',2:'two',3:'three',4:'four',5:'five'}\n",
    "\n",
    "print('original dictionary = ',dictionary)\n",
    "list1 = list(dictionary.items())\n",
    "list2 = []\n",
    "\n",
    "for i in list1:\n",
    "    i = list(i)\n",
    "    i.reverse()\n",
    "    list2.insert(0,i)\n",
    "\n",
    "list2.reverse()\n",
    "list2.sort()\n",
    "count = 0\n",
    "list3 = []\n",
    "\n",
    "for i in list2:\n",
    "    i.reverse()\n",
    "    list3.insert(0,i)\n",
    "    count = count + 1  \n",
    "    \n",
    "list3.reverse()   \n",
    "dictionary_2 = {}\n",
    "dictionary_2.update(list2)\n",
    "dictionary.clear()\n",
    "dictionary = dictionary_2.copy()\n",
    "print('Sorted dictionary in Acending =',dictionary)"
   ]
  },
  {
   "cell_type": "code",
   "execution_count": null,
   "id": "e4ff40ee",
   "metadata": {},
   "outputs": [],
   "source": [
    "#Q33. Write a Python script to sort(acending and decending) a dictionary  by value\n",
    "                  # In Decending Order\n",
    "dictionary = {1:'one',2:'two',3:'three',4:'four',5:'five'}\n",
    "\n",
    "print('original dictionary = ',dictionary)\n",
    "list1 = list(dictionary.items())\n",
    "list2 = []\n",
    "\n",
    "for i in list1:\n",
    "    i = list(i)\n",
    "    i.reverse()\n",
    "    list2.insert(0,i)\n",
    "\n",
    "list2.reverse()\n",
    "list2.sort(reverse = True)\n",
    "count = 0\n",
    "list3 = []\n",
    "\n",
    "for i in list2:\n",
    "    i.reverse()\n",
    "    list3.insert(0,i)\n",
    "    count = count + 1  \n",
    "    \n",
    "list3.reverse()   \n",
    "dictionary_2 = {}\n",
    "dictionary_2.update(list2)\n",
    "dictionary.clear()\n",
    "dictionary = dictionary_2.copy()\n",
    "print('Sorted dictionary in Decending =',dictionary)"
   ]
  },
  {
   "cell_type": "code",
   "execution_count": null,
   "id": "bc7886e8",
   "metadata": {},
   "outputs": [],
   "source": [
    "#Q34. Write a python script to concatenate following dictionaries to create a new one.\n",
    "person = {'name':'yug','age':22}\n",
    "add_on = {'salary':56.00,'gender':'male'}\n",
    "new_one = list(person.items()) + list(add_on.items())\n",
    "print(dict(new_one))"
   ]
  },
  {
   "cell_type": "code",
   "execution_count": null,
   "id": "41f53621",
   "metadata": {},
   "outputs": [],
   "source": [
    "# Q35. Write a python script to check if a given key already exists in a dictionary.\n",
    "dict1 = {1:'one',2:'two'}\n",
    "given_key = 12\n",
    "if given_key in dict1:\n",
    "    print('key already exist')\n",
    "else:\n",
    "    print('key doesn\\'t exist')\n",
    "\n"
   ]
  },
  {
   "cell_type": "code",
   "execution_count": null,
   "id": "73776756",
   "metadata": {},
   "outputs": [],
   "source": [
    "# Q36. How do you traverse through a dictionary object in python?\n",
    "dictionary = {'name':'yug','age':22,'gender':'male','salary':'1-lakh'}\n",
    "for (key,value) in dictionary.items():\n",
    "    print(key,value)"
   ]
  },
  {
   "cell_type": "code",
   "execution_count": null,
   "id": "3f3e19a7",
   "metadata": {},
   "outputs": [],
   "source": [
    "# Q37. How do you check the presence of a key in a dictionary?\n",
    "# using \"in\" operator.\n",
    "# if key in dictionary then it is present, if not it is not present\n",
    "# For example:-\n",
    "d1 = {1:1, 2:2, 3:3, 4:4, 5:5}\n",
    "key = 34\n",
    "if key in d1:\n",
    "    print(key,'is present in the dictionary',d1)\n",
    "else:\n",
    "    print(key,'is not present in the dictionary',d1)\n"
   ]
  },
  {
   "cell_type": "code",
   "execution_count": null,
   "id": "550874ee",
   "metadata": {},
   "outputs": [],
   "source": [
    "# Q38. Write a Python script to print a dictionary where the keys are numbers between 1 and 15\n",
    "dictionary = {}\n",
    "alpha = ' abcdefghijklmnopqrstuvwxyz'\n",
    "for i in range(1,16):\n",
    "     dictionary.setdefault(i,alpha[i])\n",
    "print(dictionary)"
   ]
  },
  {
   "cell_type": "code",
   "execution_count": null,
   "id": "de14a041",
   "metadata": {},
   "outputs": [],
   "source": [
    "# Q39. Write a python program to check multiple keys exists in a dictionary\n",
    "dict1 = {1:'one',2:'two',3:'three',1:'two'}\n",
    "list1 = list(dict1)\n",
    "print(list1)\n",
    "for i in dict1:\n",
    "    print(i)"
   ]
  },
  {
   "cell_type": "code",
   "execution_count": null,
   "id": "8fecefc1",
   "metadata": {},
   "outputs": [],
   "source": [
    "# Q40. Write a python script to merge two python dictionaries\n",
    "d1 = {'name':'yug','age':22}\n",
    "d2 = {'gender':'male','salary':1234556.00}\n",
    "d1.update(d2)\n",
    "print(d1)"
   ]
  },
  {
   "cell_type": "code",
   "execution_count": null,
   "id": "c8db968c",
   "metadata": {},
   "outputs": [],
   "source": [
    "# Q41. Write a python program to map two lists into a dictionary\n",
    "keys = ['apple','mango','oranges','grapes']\n",
    "values = [2,4,5,32]\n",
    "dictionary = {}\n",
    "for i in range(len(values)):\n",
    "    dictionary.setdefault(keys[i],values[i])\n",
    "print(dictionary)\n",
    "    "
   ]
  },
  {
   "cell_type": "code",
   "execution_count": null,
   "id": "b13f1275",
   "metadata": {},
   "outputs": [],
   "source": [
    "# Q42. Write a python program to combine two dictionary adding values for common keys.\n",
    "# d1 = {'a':100,'b':200,'c':300}\n",
    "# d2 = {'a':300,'b':200,'d':400}\n",
    "# sample output:Counter({'a':400,'b':400,'d':400,'c':300})\n",
    "d1 = {'a':100,'b':200,'c':300}\n",
    "d2 = {'a':300,'b':200,'d':400}\n",
    "temp = d1.copy()\n",
    "temp.update(d2)\n",
    "print(temp)\n",
    "\n",
    "for key in d1:\n",
    "    if key in d2:\n",
    "        temp[key] = d1[key]+d2[key]\n",
    "print(temp)"
   ]
  },
  {
   "cell_type": "code",
   "execution_count": 1,
   "id": "e0645d1d",
   "metadata": {},
   "outputs": [
    {
     "name": "stdout",
     "output_type": "stream",
     "text": [
      "['one', 'two', 'three', 'two', 'yug', 2, 'yug']\n",
      "Uniques Values are :-  ['one', 'three', '2']\n"
     ]
    }
   ],
   "source": [
    "# Q43. Write a python program to print all the unique values in the dictionary\n",
    "d1 = {1:'one',2:'two',3:'three',4:'two','name':'yug','apple':2,'id':'yug'}\n",
    "values = list(d1.values())\n",
    "temp = ''\n",
    "# count = 0\n",
    "print(values)\n",
    "for idx in values:\n",
    "    if values.count(idx)==1:\n",
    "        temp = temp + str(idx) + ' '\n",
    "#         count = count + 1\n",
    "    else:\n",
    "        continue\n",
    "print('Uniques Values are :- ',temp.split())\n"
   ]
  },
  {
   "cell_type": "code",
   "execution_count": null,
   "id": "83b56317",
   "metadata": {},
   "outputs": [],
   "source": [
    "# Q44. Why Do You Use the zip() Method in Python?\n",
    "# I don't know"
   ]
  },
  {
   "cell_type": "code",
   "execution_count": 3,
   "id": "22aa4918",
   "metadata": {},
   "outputs": [
    {
     "name": "stdout",
     "output_type": "stream",
     "text": [
      "[['a', 'b'], ['c', 'd']]\n",
      "ac\n",
      "ad\n",
      "bc\n",
      "bd\n"
     ]
    }
   ],
   "source": [
    "# Q45. Write a python program to create and display all combinations of letters,\n",
    "# selecting each letter from a different key in a dictionary.\n",
    "\n",
    "# sample data: {1:['a','b'], 2:['c','d']}\n",
    "# Expected Output:\n",
    "# --> ac ad bc bd\n",
    "\n",
    "# d = {1:['a','b','c'], 2:['c','d','e','f','g']}\n",
    "count = 0\n",
    "d = {1:['a','b'], 2:['c','d']}\n",
    "l = list(d.values())\n",
    "print(l)\n",
    "# ol = range(0,len(l))\n",
    "# print(ol[1])\n",
    "count = 0\n",
    "j = 0\n",
    "for i in range(0,len(l[0])*len(l[1])):\n",
    "    if count >= len(l[1]):\n",
    "        print(l[0][1] + l[1][j])\n",
    "        j = j+1\n",
    "        if j == len(l[1]):\n",
    "            j = 0\n",
    "    else:\n",
    "        print(l[0][0] + l[1][j])\n",
    "        j = j+1\n",
    "        if j == len(l[1]):\n",
    "            j = 0\n",
    "    count = count + 1\n",
    "    \n",
    "    \n",
    "    "
   ]
  },
  {
   "cell_type": "code",
   "execution_count": null,
   "id": "c5cf7229",
   "metadata": {},
   "outputs": [],
   "source": [
    "#(46) Write python program to find the highest 3 values in a dictionary\n",
    "numbers = {'a':34,'b':25,'c':68,'d':98,'e':13,'f':1,'g':100}\n",
    "values = list(numbers.values())\n",
    "print(values)\n",
    "values.sort(reverse=True)\n",
    "print('highest value :-',values[0])\n",
    "print('Second highest value :-',values[1])\n",
    "print('Third highest value :-',values[2])"
   ]
  },
  {
   "cell_type": "code",
   "execution_count": null,
   "id": "dd5b34f1",
   "metadata": {},
   "outputs": [],
   "source": [
    "# Q47. Write a python program to combine values in python list of dictionaries.\n",
    "# sample data: [{'item':'item1','amount':400},{'item':'item2','amount':'300},\n",
    "#              {'item':'item1','amount':750}]\n",
    "# Expexted output : \n",
    "\n",
    "str."
   ]
  },
  {
   "cell_type": "code",
   "execution_count": null,
   "id": "ded83aae",
   "metadata": {},
   "outputs": [],
   "source": [
    "# Q48. Write a Python program to create a dictionary from a string.\n",
    "string = 'w3resource'\n",
    "dictionary = dict.fromkeys(string,1)\n",
    "for key in dictionary:\n",
    "    dictionary[key] = string.count(key)\n",
    "print(dictionary)"
   ]
  },
  {
   "cell_type": "code",
   "execution_count": null,
   "id": "bbbf2e01",
   "metadata": {},
   "outputs": [],
   "source": []
  },
  {
   "cell_type": "code",
   "execution_count": null,
   "id": "b0c6fc1c",
   "metadata": {},
   "outputs": [],
   "source": []
  }
 ],
 "metadata": {
  "kernelspec": {
   "display_name": "Python 3 (ipykernel)",
   "language": "python",
   "name": "python3"
  },
  "language_info": {
   "codemirror_mode": {
    "name": "ipython",
    "version": 3
   },
   "file_extension": ".py",
   "mimetype": "text/x-python",
   "name": "python",
   "nbconvert_exporter": "python",
   "pygments_lexer": "ipython3",
   "version": "3.9.12"
  }
 },
 "nbformat": 4,
 "nbformat_minor": 5
}
