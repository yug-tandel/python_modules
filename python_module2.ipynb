{
 "cells": [
  {
   "cell_type": "code",
   "execution_count": 1,
   "id": "f7ec0b2c",
   "metadata": {},
   "outputs": [
    {
     "name": "stdout",
     "output_type": "stream",
     "text": [
      "Enter a number\n",
      "w3\n"
     ]
    },
    {
     "ename": "ValueError",
     "evalue": "invalid literal for int() with base 10: 'w3'",
     "output_type": "error",
     "traceback": [
      "\u001b[1;31m---------------------------------------------------------------------------\u001b[0m",
      "\u001b[1;31mValueError\u001b[0m                                Traceback (most recent call last)",
      "Input \u001b[1;32mIn [1]\u001b[0m, in \u001b[0;36m<cell line: 4>\u001b[1;34m()\u001b[0m\n\u001b[0;32m      1\u001b[0m \u001b[38;5;66;03m#Q1. Write a python program to check if a number is postive, negtive or zero.\u001b[39;00m\n\u001b[0;32m      3\u001b[0m \u001b[38;5;28mprint\u001b[39m(\u001b[38;5;124m'\u001b[39m\u001b[38;5;124mEnter a number\u001b[39m\u001b[38;5;124m'\u001b[39m)\n\u001b[1;32m----> 4\u001b[0m number \u001b[38;5;241m=\u001b[39m \u001b[38;5;28;43mint\u001b[39;49m\u001b[43m(\u001b[49m\u001b[38;5;28;43minput\u001b[39;49m\u001b[43m(\u001b[49m\u001b[43m)\u001b[49m\u001b[43m)\u001b[49m\n\u001b[0;32m      5\u001b[0m \u001b[38;5;28;01mif\u001b[39;00m number\u001b[38;5;241m>\u001b[39m\u001b[38;5;241m0\u001b[39m:\n\u001b[0;32m      6\u001b[0m     \u001b[38;5;28mprint\u001b[39m(\u001b[38;5;124m'\u001b[39m\u001b[38;5;124mpositive\u001b[39m\u001b[38;5;124m'\u001b[39m)\n",
      "\u001b[1;31mValueError\u001b[0m: invalid literal for int() with base 10: 'w3'"
     ]
    }
   ],
   "source": [
    "#Q1. Write a python program to check if a number is postive, negtive or zero.\n",
    "\n",
    "print('Enter a number')\n",
    "number = int(input())\n",
    "if number>0:\n",
    "    print('positive')\n",
    "elif number==0:\n",
    "    print('zero')\n",
    "elif number<0:\n",
    "    print('negative')"
   ]
  },
  {
   "cell_type": "code",
   "execution_count": null,
   "id": "18e07a6a",
   "metadata": {},
   "outputs": [],
   "source": [
    "#Q2 Write a python program to get the factorial number of given number.\n",
    "print('Enter a number from 1 to 10')\n",
    "number = int(input())\n",
    "fact = 1\n",
    "if number>=1 and number<=10:\n",
    "    for i in range(1,number+1,1):\n",
    "        fact = fact * i\n",
    "    print(fact) \n",
    "else:\n",
    "    print('please enter valid number')\n",
    "    "
   ]
  },
  {
   "cell_type": "code",
   "execution_count": null,
   "id": "95e01efb",
   "metadata": {},
   "outputs": [],
   "source": [
    "#Q3 Write a program to get the fabonacci series of given range\n",
    "print('Enter the range')\n",
    "limit = int(input())\n",
    "a=0\n",
    "b=1\n",
    "c=0\n",
    "for i in range(1,limit+1,1):\n",
    "    print(a,end='  ')\n",
    "    c = a + b\n",
    "    a = b\n",
    "    b = c"
   ]
  },
  {
   "cell_type": "code",
   "execution_count": null,
   "id": "3062bab7",
   "metadata": {},
   "outputs": [],
   "source": []
  },
  {
   "cell_type": "code",
   "execution_count": null,
   "id": "de95a137",
   "metadata": {},
   "outputs": [],
   "source": []
  },
  {
   "cell_type": "code",
   "execution_count": null,
   "id": "b8dea477",
   "metadata": {},
   "outputs": [],
   "source": [
    "#Q6 Write a program that swap two number with temp variable and without temp variable\n",
    "# Using temp variable\n",
    "a=5\n",
    "b=10\n",
    "temp=0\n",
    "print('before swaping')\n",
    "print('a =',a)\n",
    "print('b =',b)\n",
    "\n",
    "temp=a\n",
    "a=b\n",
    "b=temp\n",
    "print('after swaping')\n",
    "print('a =',a)\n",
    "print('b =',b)\n",
    "\n"
   ]
  },
  {
   "cell_type": "code",
   "execution_count": null,
   "id": "1d574002",
   "metadata": {},
   "outputs": [],
   "source": [
    "# without using temp variable\n",
    "a=5\n",
    "b=10\n",
    "print('before swaping')\n",
    "print('a =',a)\n",
    "print('b =',b)\n",
    "\n",
    "\n",
    "a=a+b # a = 5+10 = 15\n",
    "b=a-b # b = 15-10 = 5\n",
    "a=a-b # a = 15-5 = 5\n",
    "print('after swaping')\n",
    "print('a =',a)\n",
    "print('b =',b)"
   ]
  },
  {
   "cell_type": "code",
   "execution_count": null,
   "id": "d89fec3d",
   "metadata": {},
   "outputs": [],
   "source": [
    "#Q7 Write a program to find whether a given number is even or odd, print out an \n",
    "# appropriate message to the user\n",
    "print('Enter a number')\n",
    "a = int(input())\n",
    "if a==0:\n",
    "    print('zero')\n",
    "elif a%2==0:\n",
    "    print('even')\n",
    "else:\n",
    "    print('odd')"
   ]
  },
  {
   "cell_type": "code",
   "execution_count": null,
   "id": "25c54ce3",
   "metadata": {},
   "outputs": [],
   "source": [
    "#Q8 Write a Python program to test whether a passed letter is a vowel or not.\n",
    "letter = input('enter a letter :- ')\n",
    "vowel = 'aeiouAEIOU'\n",
    "if letter in vowel:\n",
    "    print(letter,'is vowel')\n",
    "else:\n",
    "    print(letter,'is not a vowel')"
   ]
  },
  {
   "cell_type": "code",
   "execution_count": null,
   "id": "d31cd4a7",
   "metadata": {},
   "outputs": [],
   "source": [
    "#Q9 Write a Python program to sum of three given integers. However, if two values\n",
    "# are equal sum will be zero\n",
    "print('Enter 3 values')\n",
    "a = int(input())\n",
    "b = int(input())\n",
    "c = int(input())\n",
    "\n",
    "if a==b or a==c:\n",
    "    print('sum = 0')\n",
    "elif b==a or b==c:\n",
    "    print('sum = 0')\n",
    "elif c==a or c==b:\n",
    "    print('sum = 0')\n",
    "else:\n",
    "    print('sum =',a+b+c)"
   ]
  },
  {
   "cell_type": "code",
   "execution_count": null,
   "id": "60b4e525",
   "metadata": {},
   "outputs": [],
   "source": [
    "#Q10 Write a Python program that will return true if the two given integer values\n",
    "# are equal or their sum or difference is 5\n",
    "\n",
    "print('Enter 2 values')\n",
    "a = int(input())\n",
    "b = int(input())\n",
    "\n",
    "if a==b or a+b==5 or a-b==5 or b-a==5:\n",
    "    print(\"true\")"
   ]
  },
  {
   "cell_type": "code",
   "execution_count": null,
   "id": "f4e15aed",
   "metadata": {},
   "outputs": [],
   "source": [
    "#Q11 Write a python program to sum of the first n positive integers.\n",
    "print('enter n')\n",
    "n = int(input())\n",
    "sum=0\n",
    "for i in range(1,n+1):\n",
    "    sum = sum + i\n",
    "print(sum)"
   ]
  },
  {
   "cell_type": "code",
   "execution_count": null,
   "id": "dbfc25b2",
   "metadata": {},
   "outputs": [],
   "source": [
    "#Q12 Write a python program to calculate the length of a string.\n",
    "string = input('enter string :- ')\n",
    "print(len(string))"
   ]
  },
  {
   "cell_type": "code",
   "execution_count": null,
   "id": "13759a34",
   "metadata": {},
   "outputs": [],
   "source": [
    "#Q13 Write a python program to count the number of characters\n",
    "# (character frequency) in a string\n",
    "string = input('Enter a string:- ')\n",
    "str_temp = ''\n",
    "for i in string: \n",
    "    if i not in str_temp:\n",
    "        str_temp += i    \n",
    "        print(i,\":\",string.count(i),end=',  ')\n",
    "    else:\n",
    "        continue"
   ]
  },
  {
   "cell_type": "code",
   "execution_count": null,
   "id": "722d8b75",
   "metadata": {},
   "outputs": [],
   "source": [
    "#Q14. What are negative indexes and why are they used?\n",
    "#--> Negative indexing in Python means the indexing starts from the end of the \n",
    "# iterable. The last element is at index -1, the second last at -2, and so on.\n",
    "# The use of negative indexing can be done to use or display data from the end\n",
    "# of the list and can also be used to reverse a number or string without using \n",
    "# other functions."
   ]
  },
  {
   "cell_type": "code",
   "execution_count": null,
   "id": "e0b97022",
   "metadata": {},
   "outputs": [],
   "source": [
    "#Q15. Write a python program to count occurrences of a s substring in a string.\n",
    "str1 = input('enter the string ')\n",
    "str2 = input('enter the substring you want to count ')\n",
    "\n",
    "occurence = str1.count(str2)\n",
    "print(occurence)"
   ]
  },
  {
   "cell_type": "code",
   "execution_count": null,
   "id": "53609ef5",
   "metadata": {},
   "outputs": [],
   "source": [
    "# Q16 Write a python program to count the occurrence of each word in a given \n",
    "# sentence\n",
    "string = input('enter a string :- ')\n",
    "list1 = string.split(' ')\n",
    "print(list1)\n",
    "temp = ''\n",
    "for word in list1:\n",
    "    if word in temp:\n",
    "        continue\n",
    "    else:\n",
    "        temp += word\n",
    "        print(word,':',string.count(word),end='  ')"
   ]
  },
  {
   "cell_type": "code",
   "execution_count": null,
   "id": "c338b75c",
   "metadata": {},
   "outputs": [],
   "source": [
    "#Q17. Write a python program to get a single string from two given strings,\n",
    "# separate by a space and swap the first two characters of each string\n",
    "str1 = input('enter string 1 ')#'python'\n",
    "str2 = input('enter string 2 ')#'programming'\n",
    "space = ' '\n",
    "\n",
    "str3 = str1[1::-1]+str1[2:len(str1)]+space\n",
    "str4 = str2[1::-1]+str2[2:len(str2)]\n",
    "print(str3+str4)"
   ]
  },
  {
   "cell_type": "code",
   "execution_count": null,
   "id": "b0eacf25",
   "metadata": {},
   "outputs": [],
   "source": [
    "#Q18.Write a Python program to add 'ing' at the end of a given string(length \n",
    "# should be at least 3). If the given string already ends with 'ing' then add \n",
    "# 'ly' instead. If the string length of the given string is less than 3,\n",
    "# leave it unchanged \n",
    "string = input('Enter a string ')\n",
    "print(string[len(string)-3:len(string):1])\n",
    "str1 = ''\n",
    "if len(string)<3:\n",
    "    print(string)\n",
    "elif string[len(string)-3:len(string):1]=='ing':\n",
    "    str1 = string + 'ly'\n",
    "    print(str1)\n",
    "else:\n",
    "    str1 = string + 'ing'\n",
    "    print(str1)"
   ]
  },
  {
   "cell_type": "code",
   "execution_count": 1,
   "id": "ff218681",
   "metadata": {},
   "outputs": [
    {
     "name": "stdout",
     "output_type": "stream",
     "text": [
      "he is not a poor boy\n",
      "he is good boy\n"
     ]
    }
   ],
   "source": [
    "#19 Write a Python program to find the first appearance of the substring 'not'\n",
    "# and 'poor' from a given string, if 'not' follows the 'poor', replace the whole \n",
    "# 'not'...'poor' substring with 'good'.Return the resulting string.\n",
    "str_1 = input()\n",
    "if str_1.find('not')< str_1.find('poor'):\n",
    "    str_2 = str_1.replace(str_1[str_1.find('not'):str_1.find('poor')+4],'good')\n",
    "    print(str_2)"
   ]
  },
  {
   "cell_type": "code",
   "execution_count": 4,
   "id": "f074824b",
   "metadata": {},
   "outputs": [
    {
     "name": "stdout",
     "output_type": "stream",
     "text": [
      "enter a string w3ihf\n",
      "w3hf\n"
     ]
    }
   ],
   "source": [
    "#Q22. Write a python program to get a string made of the first 2 and the last 2\n",
    "# chars from a given string. If the string length is less than 2, return an empty \n",
    "# string\n",
    "str1 = input('enter a string ')\n",
    "if len(str1)>=2:\n",
    "    #str2 = str1[0:2]+str1[len(str1)-2:len(str1)]\n",
    "    str2 = str1[:2]+str1[-2:]\n",
    "else:\n",
    "    print('Empty String')\n",
    "print(str2)"
   ]
  },
  {
   "cell_type": "code",
   "execution_count": null,
   "id": "4da37653",
   "metadata": {},
   "outputs": [],
   "source": []
  }
 ],
 "metadata": {
  "kernelspec": {
   "display_name": "Python 3 (ipykernel)",
   "language": "python",
   "name": "python3"
  },
  "language_info": {
   "codemirror_mode": {
    "name": "ipython",
    "version": 3
   },
   "file_extension": ".py",
   "mimetype": "text/x-python",
   "name": "python",
   "nbconvert_exporter": "python",
   "pygments_lexer": "ipython3",
   "version": "3.9.12"
  }
 },
 "nbformat": 4,
 "nbformat_minor": 5
}
